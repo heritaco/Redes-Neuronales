{
 "cells": [
  {
   "cell_type": "code",
   "execution_count": 1,
   "id": "57c00cd4",
   "metadata": {},
   "outputs": [],
   "source": [
    "from perceptron import Perceptron"
   ]
  },
  {
   "cell_type": "code",
   "execution_count": 2,
   "id": "2c842169",
   "metadata": {},
   "outputs": [],
   "source": [
    "# Datos de entrada \n",
    "S = [[1, 3],\n",
    "     [3, 3],\n",
    "     [1, 1],\n",
    "     [3, 1],\n",
    "     [-2, -1],\n",
    "     [-1, -2]]\n",
    "\n",
    "T = [1, -1, -1, -1, 1, 1]  # Salidas esperadas\n",
    "\n",
    "# Crear y entrenar el perceptrón\n",
    "perceptron = Perceptron(S, T, learning_rate=0.05, n_iter=10, umbral=0.5)\n",
    "perceptron.fit()\n",
    "perceptron.plot()"
   ]
  }
 ],
 "metadata": {
  "kernelspec": {
   "display_name": "redes",
   "language": "python",
   "name": "python3"
  },
  "language_info": {
   "codemirror_mode": {
    "name": "ipython",
    "version": 3
   },
   "file_extension": ".py",
   "mimetype": "text/x-python",
   "name": "python",
   "nbconvert_exporter": "python",
   "pygments_lexer": "ipython3",
   "version": "3.12.11"
  }
 },
 "nbformat": 4,
 "nbformat_minor": 5
}
